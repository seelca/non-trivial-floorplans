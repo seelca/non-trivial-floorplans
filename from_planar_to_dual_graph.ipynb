{
  "nbformat": 4,
  "nbformat_minor": 0,
  "metadata": {
    "colab": {
      "provenance": [],
      "mount_file_id": "1-AgkEiGVH-XUoQQRZd6LSjeHzTOhZSY6",
      "authorship_tag": "ABX9TyMu6zEvFslILw/QDADnW2GP",
      "include_colab_link": true
    },
    "kernelspec": {
      "name": "python3",
      "display_name": "Python 3"
    },
    "language_info": {
      "name": "python"
    }
  },
  "cells": [
    {
      "cell_type": "markdown",
      "metadata": {
        "id": "view-in-github",
        "colab_type": "text"
      },
      "source": [
        "<a href=\"https://colab.research.google.com/github/seelca/non-trivial-floorplans/blob/main/from_planar_to_dual_graph.ipynb\" target=\"_parent\"><img src=\"https://colab.research.google.com/assets/colab-badge.svg\" alt=\"Open In Colab\"/></a>"
      ]
    },
    {
      "cell_type": "code",
      "source": [
        "#check planar graph and draw it\n",
        "import pandas as pd\n",
        "import networkx as nx\n",
        "import matplotlib.pyplot as plt\n",
        "\n",
        "# Load data from CSV file\n",
        "file_path = '/content/drive/MyDrive/Self-organising L-shaped plans/output.csv'\n",
        "df = pd.read_csv(file_path)\n",
        "\n",
        "# Create a directed graph\n",
        "G = nx.from_pandas_edgelist(df, 'Source', 'Target', create_using=nx.DiGraph())\n",
        "\n",
        "# Draw the graph\n",
        "pos = nx.spring_layout(G)\n",
        "nx.draw(G, pos, with_labels=True, font_weight='bold', node_size=700, node_color='skyblue', font_size=8, edge_color='gray', linewidths=0.5, arrows=True)\n",
        "\n",
        "# Show the plot\n",
        "plt.show()"
      ],
      "metadata": {
        "colab": {
          "base_uri": "https://localhost:8080/",
          "height": 516
        },
        "id": "JP0rgnsuf_2u",
        "outputId": "ff999b99-0b06-462c-b4ad-a8d4fc021585"
      },
      "execution_count": 22,
      "outputs": [
        {
          "output_type": "display_data",
          "data": {
            "text/plain": [
              "<Figure size 640x480 with 1 Axes>"
            ],
            "image/png": "[encoded data removed]"
          },
          "metadata": {}
        }
      ]
    },
    {
      "cell_type": "code",
      "source": [
        "# Print the graph edges\n",
        "print(\"The graph edges are:\")\n",
        "for edge in G.edges():\n",
        "    print(edge)"
      ],
      "metadata": {
        "colab": {
          "base_uri": "https://localhost:8080/"
        },
        "id": "Ux1I_DZc9ixE",
        "outputId": "f48a1180-c5f5-4c0a-9bcc-43d492183399"
      },
      "execution_count": 23,
      "outputs": [
        {
          "output_type": "stream",
          "name": "stdout",
          "text": [
            "The graph edges are:\n",
            "(2, 4)\n",
            "(2, 5)\n",
            "(1, 4)\n",
            "(0, 4)\n",
            "(3, 5)\n"
          ]
        }
      ]
    },
    {
      "cell_type": "code",
      "source": [
        "print(G)"
      ],
      "metadata": {
        "colab": {
          "base_uri": "https://localhost:8080/"
        },
        "id": "YhzB-2Ao9m8m",
        "outputId": "560fd932-5186-4955-a09c-ca695830b083"
      },
      "execution_count": 24,
      "outputs": [
        {
          "output_type": "stream",
          "name": "stdout",
          "text": [
            "DiGraph with 6 nodes and 5 edges\n"
          ]
        }
      ]
    },
    {
      "cell_type": "code",
      "source": [
        "def planar_to_dual(original_graph):\n",
        "    dual_graph = {}\n",
        "\n",
        "    # Step 1: Identify Faces\n",
        "    faces = list(original_graph.keys())\n",
        "    print(faces)\n",
        "\n",
        "    # Step 2: Create a Vertex for Each Face\n",
        "    for face in faces:\n",
        "        dual_graph[face] = set()\n",
        "\n",
        "    # Step 3: Connect Vertices in the Dual Graph\n",
        "    for face1 in faces:\n",
        "        for face2 in faces:\n",
        "            if face1 != face2:\n",
        "                shared_edge = set(original_graph[face1]) & set(original_graph[face2])\n",
        "                if shared_edge:\n",
        "                    dual_graph[face1].add(face2)\n",
        "                    dual_graph[face2].add(face1)\n",
        "\n",
        "    return dual_graph\n",
        "\n",
        "# Example usage:\n",
        "original_graph = nx.to_dict_of_lists(G)\n",
        "\n",
        "dual_graph = planar_to_dual(original_graph)\n",
        "\n",
        "# Print the dual graph\n",
        "for vertex, neighbors in dual_graph.items():\n",
        "    print(f\"{vertex}: {neighbors}\")\n"
      ],
      "metadata": {
        "colab": {
          "base_uri": "https://localhost:8080/"
        },
        "id": "JB29LHrG-8Fx",
        "outputId": "41a53dd0-3e47-4695-a2f6-6186d1b1b8ed"
      },
      "execution_count": 26,
      "outputs": [
        {
          "output_type": "stream",
          "name": "stdout",
          "text": [
            "[2, 4, 1, 0, 5, 3]\n",
            "2: {0, 1, 3}\n",
            "4: set()\n",
            "1: {0, 2}\n",
            "0: {1, 2}\n",
            "5: set()\n",
            "3: {2}\n"
          ]
        }
      ]
    }
  ]
}